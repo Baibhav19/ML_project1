{
 "cells": [
  {
   "cell_type": "code",
   "execution_count": 1,
   "metadata": {},
   "outputs": [],
   "source": [
    "#read params\n",
    "# process data\n"
   ]
  },
  {
   "cell_type": "code",
   "execution_count": 51,
   "metadata": {},
   "outputs": [],
   "source": [
    "import os\n",
    "import yaml\n",
    "import pandas as pd\n",
    "import numpy as np\n",
    "import argparse\n",
    "\n",
    "class process_data:\n",
    "    \n",
    "    def get_data_func(self, data_path):\n",
    "        df = pd.read_csv(data_path, sep=',')\n",
    "        return df\n",
    "    \n",
    "    def split_raw_data(self, df, config_path):\n",
    "        cols = [col.replace(' ', '_') for col in df.columns]\n",
    "        print(cols)\n",
    "        df.to_csv(config_path, index=False, header=cols, sep=',')\n",
    "\n",
    "    def __init__(self, path=''):\n",
    "        if(path == ''):\n",
    "            self.path = 'params.yaml'\n",
    "        self.raw_data = dict()\n",
    "        with open('../' + self.path) as f:\n",
    "            self.raw_data  = yaml.safe_load(f)\n",
    "        print(self.raw_data)\n",
    "        df = self.get_data_func(self.raw_data['data_source']['s3_source'])\n",
    "        self.split_raw_data(df, self.raw_data['load_data']['raw_dataset_csv'])\n"
   ]
  },
  {
   "cell_type": "code",
   "execution_count": 52,
   "metadata": {},
   "outputs": [
    {
     "name": "stdout",
     "output_type": "stream",
     "text": [
      "{'base': {'project': 'winequality-project', 'random_state': 42, 'target_col': 'TARGET'}, 'data_source': {'s3_source': '../data_given/winequality.csv'}, 'load_data': {'raw_dataset_csv': '../data/raw/winequality.csv'}, 'split_data': {'train_path': '../data/processed/train_winequality.csv', 'test_path': '../data/processed/test_winequality.csv', 'test_size': 0.2}, 'estimators': {'ElasticNet': {'params': {'alpha': 0.9, 'l1_ratio': 0.4}}}, 'model_dir': 'saved_models'}\n",
      "['fixed_acidity', 'volatile_acidity', 'citric_acid', 'residual_sugar', 'chlorides', 'free_sulfur_dioxide', 'total_sulfur_dioxide', 'density', 'pH', 'sulphates', 'alcohol', 'TARGET']\n"
     ]
    },
    {
     "data": {
      "text/plain": [
       "<__main__.process_data at 0x1f7ab631a00>"
      ]
     },
     "execution_count": 52,
     "metadata": {},
     "output_type": "execute_result"
    }
   ],
   "source": [
    "process_data()"
   ]
  },
  {
   "cell_type": "code",
   "execution_count": 44,
   "metadata": {},
   "outputs": [
    {
     "data": {
      "text/plain": [
       "'a_a'"
      ]
     },
     "execution_count": 44,
     "metadata": {},
     "output_type": "execute_result"
    }
   ],
   "source": [
    "\"a a\".replace(\" \", \"_\")"
   ]
  },
  {
   "cell_type": "code",
   "execution_count": null,
   "metadata": {},
   "outputs": [],
   "source": []
  }
 ],
 "metadata": {
  "kernelspec": {
   "display_name": "Python 3",
   "language": "python",
   "name": "python3"
  },
  "language_info": {
   "codemirror_mode": {
    "name": "ipython",
    "version": 3
   },
   "file_extension": ".py",
   "mimetype": "text/x-python",
   "name": "python",
   "nbconvert_exporter": "python",
   "pygments_lexer": "ipython3",
   "version": "3.8.3"
  }
 },
 "nbformat": 4,
 "nbformat_minor": 4
}
