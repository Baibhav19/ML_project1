{
 "cells": [
  {
   "cell_type": "code",
   "execution_count": 4,
   "metadata": {},
   "outputs": [],
   "source": [
    "# creating basic project structure\n",
    "import os\n",
    "\n",
    "dirs = [\n",
    "    os.path.join('data', 'raw'),\n",
    "    os.path.join('data', 'processed'),\n",
    "    'src',\n",
    "    'saved_models',\n",
    "    'notebooks'\n",
    "]\n",
    "\n",
    "for dir in dirs:\n",
    "    os.makedirs(dir, exist_ok=True)\n",
    "    with open(os.path.join(dir, '.gitkeep') ,'w') as f:\n",
    "        pass\n",
    "    \n",
    "    \n",
    "files = [\n",
    "    'params.yaml',\n",
    "    'dvc.yaml',\n",
    "    '.gitignore'\n",
    "]\n",
    "\n",
    "for file in files:\n",
    "    with open(file, 'w') as f:\n",
    "        pass"
   ]
  },
  {
   "cell_type": "code",
   "execution_count": 10,
   "metadata": {},
   "outputs": [
    {
     "name": "stdout",
     "output_type": "stream",
     "text": [
      "hello\n"
     ]
    }
   ],
   "source": [
    "print('hello')"
   ]
  },
  {
   "cell_type": "code",
   "execution_count": 6,
   "metadata": {},
   "outputs": [],
   "source": [
    "import dvc"
   ]
  },
  {
   "cell_type": "code",
   "execution_count": 7,
   "metadata": {},
   "outputs": [
    {
     "data": {
      "text/plain": [
       "<module 'dvc.version' from 'C:\\\\Users\\\\LPT-2517\\\\anaconda3\\\\lib\\\\site-packages\\\\dvc\\\\version.py'>"
      ]
     },
     "execution_count": 7,
     "metadata": {},
     "output_type": "execute_result"
    }
   ],
   "source": [
    "dvc.version"
   ]
  },
  {
   "cell_type": "code",
   "execution_count": null,
   "metadata": {},
   "outputs": [],
   "source": []
  }
 ],
 "metadata": {
  "kernelspec": {
   "display_name": "Python 3",
   "language": "python",
   "name": "python3"
  },
  "language_info": {
   "codemirror_mode": {
    "name": "ipython",
    "version": 3
   },
   "file_extension": ".py",
   "mimetype": "text/x-python",
   "name": "python",
   "nbconvert_exporter": "python",
   "pygments_lexer": "ipython3",
   "version": "3.8.3"
  }
 },
 "nbformat": 4,
 "nbformat_minor": 4
}
